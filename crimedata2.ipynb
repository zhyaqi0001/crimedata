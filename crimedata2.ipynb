{
 "cells": [
  {
   "cell_type": "markdown",
   "metadata": {},
   "source": [
    "# Crime data analysis\n",
    "\n",
    "### I am trying to find which variables might have a higher correlation with crime data\n",
    "The dataset I used for the analysis is 2011 Counties Data https://www.census.gov/library/publications/2011/compendia/usa-counties-2011.html?fbclid=IwAR2KsVfEDeUjvFvbtBSJTILVmYDRAjsJ6gnu-Q29YPMMXlZlfIZ6rdgOvpI#EAN"
   ]
  },
  {
   "cell_type": "code",
   "execution_count": 1,
   "metadata": {},
   "outputs": [],
   "source": [
    "import os\n",
    "import pandas as pd\n",
    "import numpy as np\n",
    "import matplotlib.pyplot as plt\n",
    "\n",
    "from sklearn import preprocessing\n",
    "from sklearn.preprocessing import StandardScaler, RobustScaler\n",
    "from sklearn.decomposition import PCA\n",
    "from sklearn import preprocessing\n"
   ]
  },
  {
   "cell_type": "markdown",
   "metadata": {},
   "source": [
    "## The dataset \n",
    "- The dataset have 96 csv files in total and is about 1.2 Gb.\n",
    "- The dataset contains a lot of items belonging to 39 different catogeries including crime, housing, age and so on.\n",
    "- In each category, there are columns of different data types. Most of the columns are absolute values of the county, but there are also median, percentage and ranking values."
   ]
  },
  {
   "cell_type": "markdown",
   "metadata": {},
   "source": [
    "### Combining the input data files with the metadata files to get a better interpretation"
   ]
  },
  {
   "cell_type": "code",
   "execution_count": 25,
   "metadata": {},
   "outputs": [],
   "source": [
    "filelist = []\n",
    "#files = os.listdir('../dataproject/crimedata/')\n",
    "start_dir = '../dataproject/'\n",
    "for root, dirs, files in os.walk(start_dir + 'crimedata/'):\n",
    "    for filename in files:\n",
    "        if (filename.endswith('.xls')): #and (not filename.startswith('CRM'))\n",
    "            filelist.append(filename)\n",
    "\n",
    "#dataabb = ['AFN','AGE','AGN','AGS','ANC','BNK', 'BPS','BZN','BZS','CLF','EAN','EAS','EDU','ELE','EMN','EMS','FED','GAN','GEE','GEN','HEA','HIS','HSD','HSG','INC','IPE','IRS','LFE','LND','LOG','MAN','MAS','NES','PEN','PIN','POP','PPQ','PST','PVY','RHI','RTN','RTS','SBO','SEX','SPR','VET','VST','WAT','WTN']\n",
    "\n",
    "filedf = pd.DataFrame(filelist, columns = ['filename'])\n",
    "filedf['abb'] = filedf['filename'].apply(lambda x: x[0:3])\n",
    "filedf2 = pd.DataFrame(filedf.groupby(['abb'])['filename'].unique())\n",
    "filedf2['Subj'] = filedf2.index\n",
    "mastdf = pd.read_excel(start_dir + 'Mastgroups.xls')\n",
    "filedf2 = pd.merge(filedf2, mastdf, how = 'left', on = 'Subj')\n",
    "\n",
    "mastdatadf = pd.read_excel(start_dir + 'Mastdata.xls')\n",
    "mastdatadf['Subj'] = mastdatadf['Item_Id'].apply(lambda x: x[0:3])\n",
    "filedf2['numcolumns'] = list(mastdatadf.groupby('Subj')['Subj'].count())\n",
    "filedf2['unit_indicator'] = list(mastdatadf.groupby('Subj')['Unit_Indicator'].unique())"
   ]
  },
  {
   "cell_type": "code",
   "execution_count": 26,
   "metadata": {},
   "outputs": [
    {
     "data": {
      "text/html": [
       "<div>\n",
       "<style scoped>\n",
       "    .dataframe tbody tr th:only-of-type {\n",
       "        vertical-align: middle;\n",
       "    }\n",
       "\n",
       "    .dataframe tbody tr th {\n",
       "        vertical-align: top;\n",
       "    }\n",
       "\n",
       "    .dataframe thead th {\n",
       "        text-align: right;\n",
       "    }\n",
       "</style>\n",
       "<table border=\"1\" class=\"dataframe\">\n",
       "  <thead>\n",
       "    <tr style=\"text-align: right;\">\n",
       "      <th></th>\n",
       "      <th>filename</th>\n",
       "      <th>Subj</th>\n",
       "      <th>Subject</th>\n",
       "      <th>numcolumns</th>\n",
       "      <th>unit_indicator</th>\n",
       "    </tr>\n",
       "  </thead>\n",
       "  <tbody>\n",
       "    <tr>\n",
       "      <th>0</th>\n",
       "      <td>[AFN01.xls]</td>\n",
       "      <td>AFN</td>\n",
       "      <td>Accommodation and Food Services - NAICS only</td>\n",
       "      <td>36</td>\n",
       "      <td>[ABS, TH$]</td>\n",
       "    </tr>\n",
       "    <tr>\n",
       "      <th>1</th>\n",
       "      <td>[AGE01.xls, AGE03.xls, AGE02.xls, AGE04.xls]</td>\n",
       "      <td>AGE</td>\n",
       "      <td>Age</td>\n",
       "      <td>371</td>\n",
       "      <td>[ABS, YRS, PCT]</td>\n",
       "    </tr>\n",
       "    <tr>\n",
       "      <th>2</th>\n",
       "      <td>[AGN01.xls, AGN02.xls]</td>\n",
       "      <td>AGN</td>\n",
       "      <td>Agriculture - NAICS</td>\n",
       "      <td>120</td>\n",
       "      <td>[ABS, ACR, DOL, TH$, YRS]</td>\n",
       "    </tr>\n",
       "    <tr>\n",
       "      <th>3</th>\n",
       "      <td>[AGS01.xls]</td>\n",
       "      <td>AGS</td>\n",
       "      <td>Agriculture - SIC</td>\n",
       "      <td>24</td>\n",
       "      <td>[ABS, ACR, DOL, TH$, YRS]</td>\n",
       "    </tr>\n",
       "    <tr>\n",
       "      <th>4</th>\n",
       "      <td>[ANC03.xls, ANC02.xls, ANC01.xls]</td>\n",
       "      <td>ANC</td>\n",
       "      <td>Ancestry</td>\n",
       "      <td>202</td>\n",
       "      <td>[ABS]</td>\n",
       "    </tr>\n",
       "  </tbody>\n",
       "</table>\n",
       "</div>"
      ],
      "text/plain": [
       "                                       filename Subj  \\\n",
       "0                                   [AFN01.xls]  AFN   \n",
       "1  [AGE01.xls, AGE03.xls, AGE02.xls, AGE04.xls]  AGE   \n",
       "2                        [AGN01.xls, AGN02.xls]  AGN   \n",
       "3                                   [AGS01.xls]  AGS   \n",
       "4             [ANC03.xls, ANC02.xls, ANC01.xls]  ANC   \n",
       "\n",
       "                                        Subject  numcolumns  \\\n",
       "0  Accommodation and Food Services - NAICS only          36   \n",
       "1                                           Age         371   \n",
       "2                           Agriculture - NAICS         120   \n",
       "3                             Agriculture - SIC          24   \n",
       "4                                      Ancestry         202   \n",
       "\n",
       "              unit_indicator  \n",
       "0                 [ABS, TH$]  \n",
       "1            [ABS, YRS, PCT]  \n",
       "2  [ABS, ACR, DOL, TH$, YRS]  \n",
       "3  [ABS, ACR, DOL, TH$, YRS]  \n",
       "4                      [ABS]  "
      ]
     },
     "execution_count": 26,
     "metadata": {},
     "output_type": "execute_result"
    }
   ],
   "source": [
    "filedf2.head()"
   ]
  },
  {
   "cell_type": "markdown",
   "metadata": {},
   "source": [
    "### Try to normalize data if the data is the total number by population"
   ]
  },
  {
   "cell_type": "code",
   "execution_count": 44,
   "metadata": {},
   "outputs": [],
   "source": [
    "import re\n",
    "\n",
    "def nor_indicator(listofwords):\n",
    "    words = re.findall(r\"[\\w']+\", listofwords.lower())\n",
    "    if ('median' in words) | ('per' in words) | ('average' in words) | ('percentage' in words):\n",
    "        return False\n",
    "    else:\n",
    "        return True\n",
    "# print(nor_indicator('Private onfarm annual payroll - construction (NAICS 23) 1998'))\n",
    "mastdatadf['normalize_indicator'] = mastdatadf['Item_Description'].apply(nor_indicator)"
   ]
  },
  {
   "cell_type": "code",
   "execution_count": 45,
   "metadata": {},
   "outputs": [],
   "source": [
    "xls = pd.ExcelFile(start_dir + 'crimedata/PST01.xls')\n",
    "for sheet in xls.sheet_names:\n",
    "    if sheet == 'Sheet4':\n",
    "        dfsheet = pd.read_excel(start_dir + 'crimedata/PST01.xls', sheetname = sheet)\n",
    "        dfsheet = dfsheet.set_index('STCOU')\n",
    "        dfsheet.fillna(0)\n",
    "        for ix in dfsheet.index.values:\n",
    "            if ix % 1000 == 0:\n",
    "                dfsheet = dfsheet.drop([ix])\n",
    "        for column in dfsheet.columns:\n",
    "            if column == 'PST045208D':\n",
    "                populationsheet = dfsheet[[column]]\n",
    "populationsheet = populationsheet.replace(0, 1)"
   ]
  },
  {
   "cell_type": "code",
   "execution_count": 43,
   "metadata": {},
   "outputs": [],
   "source": [
    "# if files start with the following string, they are not normalized by population\n",
    "spegroups = ['AGN','AGS','LND','WAT','WTN','PST']\n",
    "def inspegroups(string):\n",
    "    flag = False\n",
    "    for item in spegroups:\n",
    "        if string.startswith(item):\n",
    "            flag = True\n",
    "            break\n",
    "    return flag\n",
    "\n",
    "def pcacomponents(variance, length):\n",
    "    n = 0\n",
    "    for i in range(length):\n",
    "        if np.cumsum(variance)[i] > 0.9:\n",
    "            n = i\n",
    "            return n"
   ]
  },
  {
   "cell_type": "markdown",
   "metadata": {},
   "source": [
    "## Data preprocessing\n",
    "\n",
    "- The different csv files belonging to the same category are first combined to from a dataframe\n",
    "- Drop some rows and columns and normalized colomns with absolute total numbers\n",
    "- Normalize the dataframe along columns\n",
    "- Do pca analysis of the new dataframe, keep several transformed columns which account for > 90% variance\n",
    "- Combine these selected columns and store in a new file."
   ]
  },
  {
   "cell_type": "code",
   "execution_count": null,
   "metadata": {},
   "outputs": [],
   "source": [
    "Total_df = pd.DataFrame()\n",
    "for i in range(len(filedf2)): # len(filedf2)\n",
    "    df = pd.DataFrame()\n",
    "    dflist = []\n",
    "    for file in filedf2.iloc[i].filename:\n",
    "        xls = pd.ExcelFile(start_dir + 'crimedata/'+file)\n",
    "        for sheet in xls.sheet_names:\n",
    "            dfsheet = pd.read_excel(start_dir + 'crimedata/' +file, sheetname = sheet)\n",
    "            dfsheet = dfsheet.set_index('STCOU')\n",
    "            dfsheet.fillna(0)\n",
    "            for ix in dfsheet.index.values:\n",
    "                if ix % 1000 == 0:\n",
    "                    dfsheet = dfsheet.drop([ix])\n",
    "            if (dfsheet.columns[0] == 'Area_name') or (dfsheet.columns[0] == 'Areaname'):\n",
    "                dfsheet = dfsheet.drop([dfsheet.columns[0]], axis =1)\n",
    "            for column in dfsheet.columns:\n",
    "                if not column.endswith('D'):\n",
    "                    dfsheet = dfsheet.drop(column,axis=1)\n",
    "                elif list(dfsheet[column].value_counts())[0]/len(dfsheet) > 0.95:\n",
    "                    dfsheet = dfsheet.drop([column], axis=1)\n",
    "                elif len(mastdatadf[mastdatadf['Item_Id']==column]) == 0:\n",
    "                    continue\n",
    "                elif ((mastdatadf[mastdatadf['Item_Id']==column].Unit_Indicator.item() in ['ABS','ACR','ML$','TH$','DOL','THO','MIL']) \\\n",
    "                      and (not inspegroups(file))\\\n",
    "                      and mastdatadf[mastdatadf['Item_Id']==column].normalize_indicator.item()):\n",
    "                # mastdatadf[mastdatadf['Item_Id']==column]['Unit_Indicator'] == 'ABS':\n",
    "                    #print(dfsheet[column][0:5])\n",
    "                    dfsheet[column] = np.multiply(np.array(dfsheet[column]), 1/np.array(populationsheet).reshape(len(populationsheet)))\n",
    "            dflist.append(dfsheet)\n",
    "    df = pd.concat(dflist, axis=1, ignore_index=False)\n",
    "    x = df.values #returns a numpy array\n",
    "    x_scaled = RobustScaler().fit_transform(x)\n",
    "    df = pd.DataFrame(x_scaled)\n",
    "    dfcorr = df.corr()\n",
    "#     print(dfcorr)\n",
    "    discards = []\n",
    "    for k in range(len(dfcorr)):\n",
    "        if not(k in discards):\n",
    "            for kk in range(k+1, len(dfcorr)):\n",
    "                if dfcorr[k][kk] >0.9:\n",
    "                    discards.append(kk)\n",
    "    discards = set(discards)\n",
    "    df = df.drop(list(discards), axis=1)\n",
    "    print('the data we are processing is ' + filedf2['Subject'][i])\n",
    "    pca = PCA()\n",
    "    pca.fit(df)\n",
    "    # plt.plot(pca.explained_variance_ratio_, 'o')\n",
    "    # plt.xlabel('component number')\n",
    "    # plt.ylabel('explained variance')\n",
    "    # plt.show()\n",
    "    print('length of pca components is ', len(pca.components_))\n",
    "    print('cumulative explained variance', np.cumsum(pca.explained_variance_ratio_)[0:2])\n",
    "    n = pcacomponents(pca.explained_variance_ratio_, len(pca.components_))\n",
    "    pca = PCA(n_components=n+1)\n",
    "    pca = pca.fit(df)\n",
    "    dfpca = pca.transform(df)\n",
    "    print('%d components taken' %(n+1))\n",
    "    # normalized_df = (df-df.min())/(df.max()-df.min())\n",
    "    for j in range(n+1):\n",
    "        col_name = filedf2.iloc[i]['Subj'] + '_' +str(j)\n",
    "        Total_df[col_name] = dfpca[:,j]\n",
    "Total_df['STCOU'] = list(populationsheet.index.values)\n",
    "Total_df.set_index('STCOU',inplace=True)\n",
    "print(Total_df.head())\n",
    "Total_df.to_pickle('./data111.pkl') "
   ]
  },
  {
   "cell_type": "code",
   "execution_count": 2,
   "metadata": {},
   "outputs": [],
   "source": [
    "Total_df = pd.read_pickle('./data111original.pkl')"
   ]
  },
  {
   "cell_type": "markdown",
   "metadata": {},
   "source": [
    "### The colinearity between selected features after preprocessing"
   ]
  },
  {
   "cell_type": "code",
   "execution_count": 8,
   "metadata": {},
   "outputs": [
    {
     "data": {
      "image/png": "[encoded data removed]",
      "text/plain": [
       "<Figure size 864x720 with 2 Axes>"
      ]
     },
     "metadata": {
      "needs_background": "light"
     },
     "output_type": "display_data"
    }
   ],
   "source": [
    "from sklearn.linear_model import LinearRegression\n",
    "import seaborn as sns\n",
    "import matplotlib.pyplot as plt\n",
    "# datanew = pd.concat([metrics[columnstouse],crime_coeff],axis = 1 )\n",
    "corrmat = Total_df.corr()\n",
    "top_corr_features = corrmat.index[(abs(corrmat[\"IPE_0\"]))>0.31]\n",
    "datanew = Total_df[top_corr_features]\n",
    "# for i in range(len(top_feats)):\n",
    "#     top_feats[i] = top_feats[i].split('-')[0].split('(')[0]\n",
    "f, ax = plt.subplots(figsize=(12, 10))\n",
    "ax.xaxis.label.set_fontsize(20)\n",
    "ax.set_title('Colinearity between selected features')\n",
    "sns.heatmap(datanew.corr(), vmax=1, cmap=\"YlGnBu\",annot=True, yticklabels=datanew.columns, xticklabels=datanew.columns);"
   ]
  },
  {
   "cell_type": "markdown",
   "metadata": {},
   "source": [
    "## The preprocess of crime data"
   ]
  },
  {
   "cell_type": "code",
   "execution_count": 100,
   "metadata": {},
   "outputs": [],
   "source": [
    "targetlist = []\n",
    "#files = os.listdir(\"../Downloads/crimedata\")\n",
    "start_dir = '../Downloads/dataproject/'\n",
    "for root, dirs, files in os.walk('./crimedata/'): #start_dir + \n",
    "    for filename in files:\n",
    "        if filename.endswith('.xls') & filename.startswith('CRM'):\n",
    "            targetlist.append(filename)"
   ]
  },
  {
   "cell_type": "code",
   "execution_count": 112,
   "metadata": {},
   "outputs": [],
   "source": [
    "crime_df = pd.DataFrame()\n",
    "\n",
    "crimelist = []\n",
    "for file in targetlist:\n",
    "    xls = pd.ExcelFile('./crimedata/'+file)\n",
    "    for sheet in xls.sheet_names:\n",
    "        dfsheet = pd.read_excel('./crimedata/' +file, sheetname = sheet)\n",
    "        dfsheet = dfsheet.set_index('STCOU')\n",
    "        dfsheet.fillna(0)\n",
    "        for ix in dfsheet.index.values:\n",
    "            if ix % 1000 == 0:\n",
    "                dfsheet = dfsheet.drop([ix])\n",
    "        if (dfsheet.columns[0] == 'Area_name') or (dfsheet.columns[0] == 'Areaname'):\n",
    "            dfsheet = dfsheet.drop([dfsheet.columns[0]], axis =1)\n",
    "        for column in dfsheet.columns:\n",
    "            if not column.endswith('D'):\n",
    "                dfsheet = dfsheet.drop(column,axis=1)\n",
    "        crimelist.append(dfsheet)\n",
    "crime_df = pd.concat(crimelist, axis=1, ignore_index=False)\n",
    "crime_df.to_pickle('./crime_coefficient.pkl') "
   ]
  },
  {
   "cell_type": "code",
   "execution_count": null,
   "metadata": {
    "collapsed": true
   },
   "outputs": [],
   "source": []
  }
 ],
 "metadata": {
  "kernelspec": {
   "display_name": "Python 3",
   "language": "python",
   "name": "python3"
  },
  "language_info": {
   "codemirror_mode": {
    "name": "ipython",
    "version": 3
   },
   "file_extension": ".py",
   "mimetype": "text/x-python",
   "name": "python",
   "nbconvert_exporter": "python",
   "pygments_lexer": "ipython3",
   "version": "3.6.4"
  }
 },
 "nbformat": 4,
 "nbformat_minor": 2
}
