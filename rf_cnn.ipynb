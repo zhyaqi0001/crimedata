{
 "cells": [
  {
   "cell_type": "markdown",
   "metadata": {},
   "source": [
    "# Crime data analysis 2\n",
    "\n",
    "- The crime data is group into three levels\n",
    "- Random Forest classification and Nerual net classification are performed on the dataset"
   ]
  },
  {
   "cell_type": "code",
   "execution_count": 2,
   "metadata": {},
   "outputs": [],
   "source": [
    "import os\n",
    "import pandas as pd\n",
    "import numpy as np\n",
    "import matplotlib.pyplot as plt\n",
    "import seaborn as sns\n",
    "\n",
    "from sklearn import preprocessing\n",
    "from sklearn.preprocessing import StandardScaler, RobustScaler\n",
    "from sklearn.decomposition import PCA\n",
    "from sklearn import preprocessing\n",
    "\n",
    "from sklearn.ensemble import RandomForestClassifier\n",
    "from sklearn.model_selection import KFold\n",
    "from sklearn.model_selection import cross_val_score\n",
    "from sklearn.model_selection import train_test_split\n",
    "from sklearn.metrics import accuracy_score"
   ]
  },
  {
   "cell_type": "code",
   "execution_count": 4,
   "metadata": {},
   "outputs": [],
   "source": [
    "# Input the dataset\n",
    "Total_df = pd.read_pickle('data111original.pkl')\n",
    "data = Total_df\n",
    "crime_df = pd.read_pickle('crime_coefficient.pkl') "
   ]
  },
  {
   "cell_type": "code",
   "execution_count": 19,
   "metadata": {},
   "outputs": [
    {
     "data": {
      "text/plain": [
       "((3146, 79), (3146,))"
      ]
     },
     "execution_count": 19,
     "metadata": {},
     "output_type": "execute_result"
    }
   ],
   "source": [
    "data.shape, crime_df.shape"
   ]
  },
  {
   "cell_type": "markdown",
   "metadata": {},
   "source": [
    "### Group the crime data into three different groups"
   ]
  },
  {
   "cell_type": "code",
   "execution_count": 6,
   "metadata": {},
   "outputs": [],
   "source": [
    "def classifier(crimedata):\n",
    "    y = []\n",
    "    for i in range(len(crimedata)):\n",
    "        if crimedata[i] < 0.075:\n",
    "            y.append(0)\n",
    "        elif crimedata[i] < 0.15:\n",
    "            y.append(1)\n",
    "        else:\n",
    "            y.append(2)\n",
    "    return y"
   ]
  },
  {
   "cell_type": "markdown",
   "metadata": {},
   "source": [
    "## Random Forest classification"
   ]
  },
  {
   "cell_type": "code",
   "execution_count": 12,
   "metadata": {},
   "outputs": [
    {
     "name": "stdout",
     "output_type": "stream",
     "text": [
      "(2674, 79)\n",
      "(472, 79)\n",
      "Train data contains 2674 rows and 79 columns\n",
      "Test data contains 472 rows and 79 columns\n",
      "Train possible labels: \n",
      "[0 1 2]\n",
      "Test possible labels: \n",
      "[0 1 2]\n",
      "Accuracy: 79.21% (2.70%)\n",
      "predicted correctly: 367/472\n",
      "error: 0.2225\n"
     ]
    }
   ],
   "source": [
    "feature = list(data.columns.values)\n",
    "#print(feature_names)\n",
    "X = np.array(data)\n",
    "y = classifier(crime_df.values)\n",
    "\n",
    "my_imputer = preprocessing.Imputer()\n",
    "x_train, x_test, y_train, y_test = train_test_split(X, y, test_size = 0.15)\n",
    "x_train = pd.DataFrame(my_imputer.fit_transform(x_train), columns=feature)\n",
    "x_test  = pd.DataFrame(my_imputer.transform(x_test), columns=feature)\n",
    "\n",
    "print(x_train.shape)\n",
    "print(x_test.shape)\n",
    "\n",
    "# Look up the shape of train and test data set\n",
    "print(\"Train data contains {0} rows and {1} columns\".format(x_train.shape[0], x_train.shape[1]))\n",
    "print(\"Test data contains {0} rows and {1} columns\".format(x_test.shape[0], x_test.shape[1]))\n",
    "\n",
    "# Look up the possible output of y\n",
    "print(\"Train possible labels: \")\n",
    "print(np.unique(y_train))\n",
    "\n",
    "print(\"Test possible labels: \")\n",
    "print(np.unique(y_test))\n",
    "\n",
    "# Setup the params:\n",
    "params = {\"n_estimators\": 1000} #\"max-depth\": 5,\"silent\": 1\n",
    "\n",
    "# Do the model\n",
    "rfmodel = RandomForestClassifier(**params).fit(x_train, y_train)\n",
    "kfold = KFold(n_splits=10, random_state=7)\n",
    "results = cross_val_score(rfmodel, x_train, y_train, cv=kfold)\n",
    "print(\"Accuracy: %.2f%% (%.2f%%)\" % (results.mean()*100, results.std()*100))\n",
    "# Predict\n",
    "preds = rfmodel.predict(x_test)\n",
    "\n",
    "# Count the accuracy\n",
    "correct = 0\n",
    "\n",
    "for i in range(len(preds)):\n",
    "    if y_test[i] == preds[i]:\n",
    "        correct += 1\n",
    "\n",
    "acc = accuracy_score(y_test, preds)\n",
    "print(\"predicted correctly: {0}/{1}\".format(correct, len(preds)))\n",
    "print(\"error: {0:.4f}\".format(1 - acc))\n",
    "\n",
    "# Features Importance\n",
    "importantce_list = list(zip(data.columns, rfmodel.feature_importances_))\n",
    "def takeSecond(elem):\n",
    "    return elem[1]\n",
    "importantce_list.sort(key=takeSecond, reverse=True)\n",
    "importantce_list[:20]\n",
    "importantcedf = pd.DataFrame()\n",
    "importantcedf['feature'] = [item[0] for item in importantce_list]\n",
    "importantcedf['importance'] = [item[1] for item in importantce_list]"
   ]
  },
  {
   "cell_type": "code",
   "execution_count": 16,
   "metadata": {},
   "outputs": [
    {
     "name": "stderr",
     "output_type": "stream",
     "text": [
      "/Library/Frameworks/Python.framework/Versions/3.6/lib/python3.6/site-packages/ipykernel_launcher.py:2: SettingWithCopyWarning: \n",
      "A value is trying to be set on a copy of a slice from a DataFrame.\n",
      "Try using .loc[row_indexer,col_indexer] = value instead\n",
      "\n",
      "See the caveats in the documentation: http://pandas.pydata.org/pandas-docs/stable/indexing.html#indexing-view-versus-copy\n",
      "  \n"
     ]
    }
   ],
   "source": [
    "importantcetoplot = importantcedf[:8]\n",
    "importantcetoplot['fea_name'] = ['race','retail','income and poverty','business','retail_2','accommodation','business_2','business_3']"
   ]
  },
  {
   "cell_type": "code",
   "execution_count": 17,
   "metadata": {},
   "outputs": [
    {
     "data": {
      "image/png": "[encoded data removed]",
      "text/plain": [
       "<Figure size 576x504 with 1 Axes>"
      ]
     },
     "metadata": {
      "needs_background": "light"
     },
     "output_type": "display_data"
    }
   ],
   "source": [
    "# plot feature importance\n",
    "plt.figure(figsize=(8,7))\n",
    "sns.barplot(x=\"importance\", y=\"fea_name\", data=importantcetoplot)\n",
    "plt.title('RandomForest Model Feature Importance')\n",
    "plt.tight_layout()\n",
    "plt.show()"
   ]
  },
  {
   "cell_type": "markdown",
   "metadata": {},
   "source": [
    "- ### The feature importance is ploted above, which shows that race data is most correlated with crime coefficient.\n",
    "- ### The classification accuracy is around 80%"
   ]
  },
  {
   "cell_type": "markdown",
   "metadata": {},
   "source": [
    "## Nerual Net classification"
   ]
  },
  {
   "cell_type": "code",
   "execution_count": null,
   "metadata": {},
   "outputs": [],
   "source": [
    "import numpy as np\n",
    "import pandas as pd        # For loading and processing the dataset\n",
    "import tensorflow as tf    # Of course, we need TensorFlow.\n",
    "from sklearn.model_selection import train_test_split\n",
    "import matplotlib.pyplot as plt\n",
    "from sklearn.preprocessing import StandardScaler, RobustScaler\n",
    "\n",
    "def classifier(crimedata):\n",
    "    y = []\n",
    "    for i in range(len(crimedata)):\n",
    "        if crimedata[i] < 0.075: #\n",
    "            y.append(0)\n",
    "        elif crimedata[i] < 0.15: #\n",
    "            y.append(1)\n",
    "        else:\n",
    "            y.append(2)\n",
    "    return y\n",
    "\n",
    "class Model:\n",
    "\n",
    "    def __init__(self, image, label):\n",
    "\n",
    "        self.image = image\n",
    "        self.label = label\n",
    "        self.prediction = self.forward_pass()\n",
    "        self.loss = self.loss_function()\n",
    "        self.optimize = self.optimizer()\n",
    "        self.accuracy = self.accuracy_function()\n",
    "\n",
    "    def forward_pass(self):\n",
    "        \"\"\"\n",
    "        Predicts a label given an image using fully connected layers\n",
    "\n",
    "        :return: the predicted label as a tensor\n",
    "        \"\"\"\n",
    "        hidden_size = 200\n",
    "        # hidden_size2 = 200\n",
    "        input_size = 79\n",
    "        num_classes = 3\n",
    "        U = tf.Variable(tf.random_normal([input_size,hidden_size], stddev=.1))\n",
    "        bU = tf.Variable(tf.random_normal([hidden_size], stddev=.1))\n",
    "        # U2 = tf.Variable(tf.random_normal([hidden_size,hidden_size2], stddev=.1))\n",
    "        # bU2 = tf.Variable(tf.random_normal([hidden_size2], stddev=.1))\n",
    "        V = tf.Variable(tf.random_normal([hidden_size,num_classes], stddev=.1))\n",
    "        bV = tf.Variable(tf.random_normal([num_classes], stddev=.1))\n",
    "        L1Output = tf.matmul(self.image,U)+bU\n",
    "        L1Output=tf.nn.relu(L1Output)\n",
    "        # L2Output = tf.matmul(L1Output,U2)+bU2\n",
    "        #L2Output=tf.nn.relu(L2Output)\n",
    "        prbs=tf.matmul(L1Output,V)+bV #tf.nn.softmax(\n",
    "        return prbs\n",
    "        pass\n",
    "\n",
    "    def loss_function(self):\n",
    "        \"\"\"\n",
    "        Calculates the model loss\n",
    "\n",
    "        :return: the loss of the model as a tensor\n",
    "        \"\"\"\n",
    "        # TODO replace pass with loss_function method\n",
    "        xEnt = tf.nn.sparse_softmax_cross_entropy_with_logits(logits = self.prediction,labels = self.label)\n",
    "\n",
    "        return tf.reduce_sum(xEnt)\n",
    "\n",
    "    def optimizer(self):\n",
    "        \"\"\"\n",
    "        Optimizes the model loss\n",
    "\n",
    "        :return: the optimizer as a tensor\n",
    "        \"\"\"\n",
    "        \n",
    "        # TODO replace pass with optimizer method\n",
    "        train = tf.train.AdamOptimizer(learning_rate = 0.001).minimize(self.loss)\n",
    "        return train\n",
    "        pass\n",
    "\n",
    "    def accuracy_function(self):\n",
    "        correct_prediction = tf.equal(tf.argmax(tf.nn.softmax(self.prediction), 1),\n",
    "                                      self.label)\n",
    "        return tf.reduce_mean(tf.cast(correct_prediction, tf.float64))\n",
    "\n",
    "\n",
    "def main():\n",
    "\n",
    "    # Input the dataset\n",
    "    Total_df = pd.read_pickle('data111original.pkl')\n",
    "    # data = Total_df.drop(['CRM_0','CRM_1'], axis = 1)\n",
    "    data = Total_df\n",
    "    crime_df = pd.read_pickle('crime_coefficient.pkl') \n",
    "    data = RobustScaler().fit_transform(data.values)\n",
    "    X_train, X_test, y_train, y_test = train_test_split(data, classifier(crime_df.values), test_size=0.15)\n",
    "    print(X_train.shape)\n",
    "    # TODO: Set-up placeholders for inputs and outputs\n",
    "    input_size = 79\n",
    "    learning_rate = 0.001\n",
    "    batch_size = 100\n",
    "    inpt = tf.placeholder(tf.float32,[None, input_size])\n",
    "    outpt = tf.placeholder(tf.int64,shape = [None])\n",
    "    \n",
    "    # TODO: initialize model and tensorflow variables\n",
    "    \n",
    "    # TODO: Set-up the training step, for as many of the 60,000 examples as you'd like\n",
    "    #     where the batch size is greater than 1    \n",
    "    train_model = Model(inpt,outpt)\n",
    "    sess = tf.Session()\n",
    "    sess.run(tf.global_variables_initializer())\n",
    "    accs = []\n",
    "    for i in range(2):\n",
    "        k = 0\n",
    "        for start, end in zip(range(0, len(X_train) - batch_size, batch_size), range(batch_size, len(X_train), batch_size)):\n",
    "            # print(np.array(X_train[start:end]).astype(np.float32))\n",
    "            # print(y_train[start:end])\n",
    "            acc, _ = sess.run([train_model.accuracy, train_model.optimize], feed_dict={inpt: np.array(X_train[start:end]).astype(np.float32), outpt: y_train[start:end]})\n",
    "            accs.append(acc)\n",
    "            k += 1\n",
    "        \n",
    " #       print (\"Test Accuracy: %r\", train_model.accuracy)\n",
    "    print(sess.run(train_model.accuracy, feed_dict={inpt: np.array(X_test).astype(np.float32),outpt: y_test}))\n",
    "    plt.plot(range(1,len(accs)+1), accs, '.')\n",
    "    plt.axvline(x=k, linestyle='--', color = 'gray')\n",
    "    plt.axvline(x=2*k, linestyle='--', color = 'gray')\n",
    "    plt.xlabel('batch number')\n",
    "    plt.ylabel('accuracy')\n",
    "    plt.show()\n",
    "\n",
    "    return\n",
    "\n",
    "if __name__ == '__main__':\n",
    "    main()"
   ]
  },
  {
   "cell_type": "markdown",
   "metadata": {},
   "source": [
    "<img src=\"crimeresult.png\">"
   ]
  },
  {
   "cell_type": "markdown",
   "metadata": {},
   "source": [
    "- ### The accuracy after each batch is shown above\n",
    "- ### The test accuracy is 74%"
   ]
  },
  {
   "cell_type": "code",
   "execution_count": null,
   "metadata": {},
   "outputs": [],
   "source": []
  }
 ],
 "metadata": {
  "kernelspec": {
   "display_name": "Python 3",
   "language": "python",
   "name": "python3"
  },
  "language_info": {
   "codemirror_mode": {
    "name": "ipython",
    "version": 3
   },
   "file_extension": ".py",
   "mimetype": "text/x-python",
   "name": "python",
   "nbconvert_exporter": "python",
   "pygments_lexer": "ipython3",
   "version": "3.6.4"
  }
 },
 "nbformat": 4,
 "nbformat_minor": 2
}
